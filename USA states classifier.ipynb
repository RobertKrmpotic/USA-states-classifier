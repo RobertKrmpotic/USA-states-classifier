{
 "cells": [
  {
   "cell_type": "markdown",
   "metadata": {},
   "source": [
    "# USA states classifier"
   ]
  },
  {
   "cell_type": "markdown",
   "metadata": {},
   "source": [
    "This project is aimed at developing a classifier that can classify to which American state a city belongs given its Latitude and Logitude. I will be judging them based on their accuracy."
   ]
  },
  {
   "cell_type": "code",
   "execution_count": 1,
   "metadata": {},
   "outputs": [],
   "source": [
    "#package import\n",
    "import pandas as pd\n",
    "from sklearn.model_selection import train_test_split\n",
    "import matplotlib.pyplot as plt\n",
    "%matplotlib inline"
   ]
  },
  {
   "cell_type": "markdown",
   "metadata": {},
   "source": [
    "The data is cleaned to include 50 states and split into train and test data. <br>\n",
    "Moreover, I will be using city ID as index in the model as city ascii has some duplicate values."
   ]
  },
  {
   "cell_type": "code",
   "execution_count": 2,
   "metadata": {},
   "outputs": [
    {
     "data": {
      "text/html": [
       "<div>\n",
       "<style scoped>\n",
       "    .dataframe tbody tr th:only-of-type {\n",
       "        vertical-align: middle;\n",
       "    }\n",
       "\n",
       "    .dataframe tbody tr th {\n",
       "        vertical-align: top;\n",
       "    }\n",
       "\n",
       "    .dataframe thead th {\n",
       "        text-align: right;\n",
       "    }\n",
       "</style>\n",
       "<table border=\"1\" class=\"dataframe\">\n",
       "  <thead>\n",
       "    <tr style=\"text-align: right;\">\n",
       "      <th></th>\n",
       "      <th>lat</th>\n",
       "      <th>lng</th>\n",
       "    </tr>\n",
       "    <tr>\n",
       "      <th>id</th>\n",
       "      <th></th>\n",
       "      <th></th>\n",
       "    </tr>\n",
       "  </thead>\n",
       "  <tbody>\n",
       "    <tr>\n",
       "      <th>1840116412</th>\n",
       "      <td>46.9994</td>\n",
       "      <td>-122.3921</td>\n",
       "    </tr>\n",
       "    <tr>\n",
       "      <th>1840097718</th>\n",
       "      <td>47.2507</td>\n",
       "      <td>-121.0989</td>\n",
       "    </tr>\n",
       "  </tbody>\n",
       "</table>\n",
       "</div>"
      ],
      "text/plain": [
       "                lat       lng\n",
       "id                           \n",
       "1840116412  46.9994 -122.3921\n",
       "1840097718  47.2507 -121.0989"
      ]
     },
     "execution_count": 2,
     "metadata": {},
     "output_type": "execute_result"
    }
   ],
   "source": [
    "#Data cleaning\n",
    "usa = pd.read_csv(\"uscities.csv\",usecols=[\"city_ascii\",\"state_name\",\"lat\",\"lng\",\"id\"])\n",
    "usa.index= usa.id\n",
    "usa = usa[~usa.state_name.isin ([\"District of Columbia\", \"Puerto Rico\"])]\n",
    "usa_cityid = usa.loc[:,\"city_ascii\"] #in usacityid we can check the which id belongs to which city\n",
    "usa = usa.drop([\"id\",\"city_ascii\"],axis=1)\n",
    "usa_y = usa.pop(\"state_name\")\n",
    "\n",
    "#Test train split\n",
    "X_train, X_test, y_train, y_test = train_test_split(usa,usa_y,random_state=4,stratify=usa_y)\n",
    "usa.head(2)"
   ]
  },
  {
   "cell_type": "code",
   "execution_count": 3,
   "metadata": {},
   "outputs": [
    {
     "data": {
      "text/plain": [
       "50"
      ]
     },
     "execution_count": 3,
     "metadata": {},
     "output_type": "execute_result"
    }
   ],
   "source": [
    "#pandas_profiling.ProfileReport(usa)\n",
    "usa_y.nunique()"
   ]
  },
  {
   "cell_type": "markdown",
   "metadata": {},
   "source": [
    "## <br> Dummy classifier"
   ]
  },
  {
   "cell_type": "markdown",
   "metadata": {},
   "source": [
    "I will start by setting a baseline score using dummy classifier. <br>Then I will be looking to see how much of an improvement will I be able to get in each model. I will mostly be scoring model on the accuracy."
   ]
  },
  {
   "cell_type": "code",
   "execution_count": 4,
   "metadata": {},
   "outputs": [
    {
     "name": "stdout",
     "output_type": "stream",
     "text": [
      "Uniformed dummy classifier train score: 0.0190\n",
      "Uniformed dummy classifier test score: 0.0188\n",
      "Stratified dummy classifier train score: 0.0304\n",
      "Stratified dummy classifier test score: 0.0293\n"
     ]
    }
   ],
   "source": [
    "from sklearn.dummy import DummyClassifier\n",
    "dummy_clf = DummyClassifier(strategy=\"uniform\", random_state=4)\n",
    "dummy_clf.fit(X_train, y_train)\n",
    "print('Uniformed dummy classifier train score: {:.4f}'.format(dummy_clf.score(X_train, y_train)))\n",
    "print('Uniformed dummy classifier test score: {:.4f}'.format(dummy_clf.score(X_test, y_test)))\n",
    "\n",
    "dummy_clf = DummyClassifier(strategy=\"stratified\", random_state=4)\n",
    "dummy_clf.fit(X_train, y_train)\n",
    "print('Stratified dummy classifier train score: {:.4f}'.format(dummy_clf.score(X_train, y_train)))\n",
    "print('Stratified dummy classifier test score: {:.4f}'.format(dummy_clf.score(X_test, y_test)))"
   ]
  },
  {
   "cell_type": "markdown",
   "metadata": {},
   "source": [
    "This is a pretty low starting point of just around 3%. This low accuracy is a result of 50 unique labels. "
   ]
  },
  {
   "cell_type": "markdown",
   "metadata": {},
   "source": [
    "## <br>Guassian Naive Bayes"
   ]
  },
  {
   "cell_type": "markdown",
   "metadata": {},
   "source": [
    "I will start trying to improve on the score with Gaussian Naive Bayes."
   ]
  },
  {
   "cell_type": "code",
   "execution_count": 7,
   "metadata": {},
   "outputs": [
    {
     "name": "stdout",
     "output_type": "stream",
     "text": [
      "Naive Gaussian train score: 0.8975\n",
      "Naive Gaussian test score: 0.8917\n"
     ]
    }
   ],
   "source": [
    "from sklearn.naive_bayes import GaussianNB\n",
    "from sklearn.model_selection import cross_val_score\n",
    "clf_Gauss=GaussianNB()\n",
    "print('Naive Gaussian train score: {:.4f}'.format(cross_val_score(clf_Gauss,X_train,y_train,cv=5).mean()))\n",
    "print('Naive Gaussian test score: {:.4f}'.format(cross_val_score(clf_Gauss,X_test,y_test,cv=5).mean()))"
   ]
  },
  {
   "cell_type": "markdown",
   "metadata": {},
   "source": [
    "Gaussian Naive Bayes has achieved a test accuracy of 89.17%. This is already a massive improvement on the basile score of just 3%."
   ]
  },
  {
   "cell_type": "markdown",
   "metadata": {},
   "source": [
    "## <br>KNN Classifier"
   ]
  },
  {
   "cell_type": "markdown",
   "metadata": {},
   "source": [
    "Secondly, I will be using K Nearest neighbour to classify the states. This model sounds like an intuitive solution for building the borders between the states. I am also tuning the hyperparameter n_neighbors to check which will produce the best result."
   ]
  },
  {
   "cell_type": "code",
   "execution_count": 9,
   "metadata": {},
   "outputs": [
    {
     "name": "stdout",
     "output_type": "stream",
     "text": [
      "Best accuracy of KNN gridsearch: 0.9695\n",
      "Best parameters of KNN gridsearch: {'n_neighbors': 7, 'weights': 'distance'}\n"
     ]
    },
    {
     "data": {
      "image/png": "[encoded data removed]",
      "text/plain": [
       "<Figure size 432x288 with 1 Axes>"
      ]
     },
     "metadata": {
      "needs_background": "light"
     },
     "output_type": "display_data"
    }
   ],
   "source": [
    "#importing classifier and Gridsearch to find hyperparameters\n",
    "# GridSearchCV automatically refits the best model using all of the data\n",
    "\n",
    "from sklearn.model_selection import GridSearchCV\n",
    "from sklearn.neighbors import KNeighborsClassifier\n",
    "\n",
    "#defining classifier\n",
    "knn_clf = KNeighborsClassifier(n_neighbors=3)\n",
    "k_range = list(range(1, 15))\n",
    "\n",
    "#defining options amd range for gridsearch\n",
    "weight_options = ['distance']\n",
    "param_grid = dict(n_neighbors=k_range, weights=weight_options)\n",
    "\n",
    "knn_grid = GridSearchCV(knn_clf, param_grid, cv=5, scoring='accuracy', return_train_score=False)\n",
    "knn_grid.fit(X_train, y_train)\n",
    "\n",
    "\n",
    "#KNN results and best grid parameters\n",
    "print('Best accuracy of KNN gridsearch: {:.4f}'.format(knn_grid.best_score_))\n",
    "print('Best parameters of KNN gridsearch: {:}'.format(knn_grid.best_params_))\n",
    "\n",
    "grid_mean_scores = knn_grid.cv_results_['mean_test_score']\n",
    "\n",
    "plt.plot(k_range, grid_mean_scores)\n",
    "plt.xlabel('Value of K for KNN')\n",
    "plt.ylabel('Cross-Validated Accuracy')\n",
    "plt.show()"
   ]
  },
  {
   "cell_type": "code",
   "execution_count": 10,
   "metadata": {},
   "outputs": [
    {
     "name": "stdout",
     "output_type": "stream",
     "text": [
      "                precision    recall  f1-score   support\n",
      "\n",
      "    Washington     0.9793    0.9726    0.9759       146\n",
      "      Delaware     1.0000    1.0000    1.0000        88\n",
      "     Wisconsin     0.9474    0.9643    0.9558       112\n",
      " West Virginia     0.9774    0.9701    0.9738       134\n",
      "        Hawaii     0.9894    0.9947    0.9920       376\n",
      "       Florida     0.9576    0.9912    0.9741       114\n",
      "       Wyoming     0.9615    0.8929    0.9259        28\n",
      " New Hampshire     0.8421    0.8421    0.8421        19\n",
      "    New Jersey     0.9828    1.0000    0.9913       228\n",
      "    New Mexico     0.9806    0.9806    0.9806       155\n",
      "         Texas     1.0000    1.0000    1.0000        37\n",
      "     Louisiana     0.9623    0.9107    0.9358        56\n",
      "        Alaska     0.9791    0.9619    0.9704       341\n",
      "North Carolina     0.9822    0.9765    0.9794       170\n",
      "  North Dakota     0.9686    0.9802    0.9744       252\n",
      "      Nebraska     0.9532    0.9702    0.9617       168\n",
      "     Tennessee     0.9389    0.9179    0.9283       134\n",
      "      New York     0.9917    1.0000    0.9958       119\n",
      "  Pennsylvania     0.9091    1.0000    0.9524        10\n",
      "  Rhode Island     0.9302    0.9302    0.9302       129\n",
      "        Nevada     1.0000    0.9714    0.9855        35\n",
      "      Virginia     0.9826    0.9769    0.9797       173\n",
      "      Colorado     0.9511    0.9554    0.9532       224\n",
      "    California     1.0000    0.9667    0.9831        90\n",
      "       Alabama     0.9508    0.9729    0.9617       258\n",
      "      Arkansas     0.9780    0.9889    0.9834        90\n",
      "       Vermont     0.9854    0.9310    0.9574       145\n",
      "      Illinois     0.9655    0.8485    0.9032        33\n",
      "       Georgia     1.0000    0.6667    0.8000         9\n",
      "       Indiana     1.0000    0.9695    0.9845       131\n",
      "          Iowa     0.9727    0.9727    0.9727       110\n",
      " Massachusetts     0.9745    0.9926    0.9835       270\n",
      "       Arizona     0.9683    0.9946    0.9812       184\n",
      "         Idaho     0.9490    0.9300    0.9394       100\n",
      "   Connecticut     0.9702    0.9734    0.9718       301\n",
      "         Maine     0.9676    0.9728    0.9702       184\n",
      "      Maryland     0.9375    0.9574    0.9474        94\n",
      "      Oklahoma     0.9815    0.9838    0.9827       432\n",
      "          Ohio     0.8889    1.0000    0.9412         8\n",
      "          Utah     0.9894    0.9490    0.9688        98\n",
      "      Missouri     0.9010    0.9286    0.9146        98\n",
      "     Minnesota     0.9346    0.9434    0.9390       106\n",
      "      Michigan     0.9977    0.9907    0.9942       430\n",
      "        Kansas     0.9756    0.9877    0.9816        81\n",
      "       Montana     0.8824    0.9375    0.9091        16\n",
      "   Mississippi     0.9931    0.9728    0.9828       147\n",
      "South Carolina     0.9806    0.9806    0.9806       155\n",
      "      Kentucky     0.8598    0.9109    0.8846       101\n",
      "        Oregon     0.9688    0.9637    0.9662       193\n",
      "  South Dakota     0.9583    0.9200    0.9388        50\n",
      "\n",
      "      accuracy                         0.9704      7162\n",
      "     macro avg     0.9620    0.9553    0.9576      7162\n",
      "  weighted avg     0.9707    0.9704    0.9704      7162\n",
      "\n"
     ]
    }
   ],
   "source": [
    "from sklearn.metrics import classification_report\n",
    "predicted = knn_grid.predict(X_test)\n",
    "print(classification_report(y_test, predicted, target_names=usa_y.unique(), digits=4))"
   ]
  },
  {
   "cell_type": "markdown",
   "metadata": {},
   "source": [
    "The KNN clasifier seems to perform around 97% regardless on the number of neighbors. The best score is achieved using 7 neighbors to classify the states. The test accuracy of 96.95% is a decent score"
   ]
  },
  {
   "cell_type": "markdown",
   "metadata": {},
   "source": [
    "# Random forest"
   ]
  },
  {
   "cell_type": "markdown",
   "metadata": {},
   "source": [
    "Lastly, I will try to use the random forest classifier. Usually random forest classifier tend to have one of the highest test scores, but takes considerably more time to train. I will try to tune 2 hyperparameters number of estimators and max leaf nodes using cross-validation. This will take around 10 minutes to run"
   ]
  },
  {
   "cell_type": "code",
   "execution_count": 11,
   "metadata": {},
   "outputs": [
    {
     "name": "stdout",
     "output_type": "stream",
     "text": [
      "Best accuracy of Random Forest gridsearch: 0.9802\n",
      "Best parameters of Random Forest gridsearch: {'max_leaf_nodes': 1000, 'n_estimators': 300}\n",
      "Random forest test score: 0.9817\n"
     ]
    }
   ],
   "source": [
    "from sklearn.ensemble import RandomForestClassifier\n",
    "clf_rf = RandomForestClassifier(n_estimators = 50,random_state=4)\n",
    "estimator_list = [250,300,350]\n",
    "max_leaf_nodes = [100,500,1000]\n",
    "param_grid = dict(n_estimators=estimator_list, max_leaf_nodes=max_leaf_nodes)\n",
    "\n",
    "rf_grid = GridSearchCV(clf_rf, param_grid, cv=5, scoring='accuracy', return_train_score=False)\n",
    "rf_grid.fit(X_train, y_train)\n",
    "\n",
    "#Random forest results and best grid parameters\n",
    "print('Best accuracy of Random Forest gridsearch: {:.4f}'.format(rf_grid.best_score_))\n",
    "print('Best parameters of Random Forest gridsearch: {:}'.format(rf_grid.best_params_))\n",
    "print('Random forest test score: {:.4f}'.format(rf_grid.score(X_test,y_test)))"
   ]
  },
  {
   "cell_type": "markdown",
   "metadata": {},
   "source": [
    "As expected Random Forest classifier managed to have the highest test score of 98.17. This was achieved using 1000 max leaf nodes and 300 estimators. I will graph different numbers of estimators to see how much of an impact it has compared to the number of max leaf nodes."
   ]
  },
  {
   "cell_type": "code",
   "execution_count": 12,
   "metadata": {},
   "outputs": [
    {
     "data": {
      "image/png": "[encoded data removed]",
      "text/plain": [
       "<Figure size 432x288 with 1 Axes>"
      ]
     },
     "metadata": {
      "needs_background": "light"
     },
     "output_type": "display_data"
    }
   ],
   "source": [
    "from pandas.io.json import json_normalize\n",
    "rf_grid_scores=pd.DataFrame(rf_grid.cv_results_)[['mean_test_score', 'std_test_score', 'params']]\n",
    "#It turns parameters into separate columns\n",
    "rf_params = json_normalize(rf_grid_scores['params'])\n",
    "#Merge them together\n",
    "rf_params = pd.concat([rf_params,rf_grid_scores],axis=1)\n",
    "\n",
    "#Create separate df for each value of n_estimators\n",
    "rf_250_est = rf_params[rf_params.n_estimators == 250]\n",
    "rf_300_est = rf_params[rf_params.n_estimators == 300]\n",
    "rf_350_est = rf_params[rf_params.n_estimators == 350]\n",
    "\n",
    "plt.title(\"CV accuracy depending on number of leaf nodes and estimators\")\n",
    "plt.xlabel('Number leaf nodes')\n",
    "plt.ylabel('Cross-Validated Accuracy')\n",
    "plt.plot(rf_250_est.max_leaf_nodes, rf_250_est.mean_test_score, label='250 est')\n",
    "plt.plot(rf_300_est.max_leaf_nodes, rf_300_est.mean_test_score, label='300 est')\n",
    "plt.plot(rf_350_est.max_leaf_nodes, rf_350_est.mean_test_score, label='350 est')\n",
    "plt.legend()\n",
    "plt.show()"
   ]
  },
  {
   "cell_type": "markdown",
   "metadata": {},
   "source": [
    "So it seems that number of estimators has very low impact on the accuracy with lines basically overlapping each other.\n",
    "On the other side the number of max leaf nodes seems to have a much bigger impact, with higher number contributing to higher"
   ]
  },
  {
   "cell_type": "code",
   "execution_count": 13,
   "metadata": {},
   "outputs": [
    {
     "name": "stdout",
     "output_type": "stream",
     "text": [
      "Best accuracy of Random Forest gridsearch: 0.9812\n",
      "Best parameters of Random Forest gridsearch: {'max_leaf_nodes': 1500, 'n_estimators': 100}\n",
      "Random forest test score: 0.9817\n"
     ]
    }
   ],
   "source": [
    "#trying with small number of estimators\n",
    "clf_rf = RandomForestClassifier(n_estimators = 50,random_state=4)\n",
    "estimator_list = [50,100,200,300]\n",
    "max_leaf_nodes = [1000, 1500, 2000]\n",
    "param_grid = dict(n_estimators=estimator_list, max_leaf_nodes=max_leaf_nodes)\n",
    "\n",
    "rf_grid = GridSearchCV(clf_rf, param_grid, cv=10, scoring='accuracy', return_train_score=False)\n",
    "rf_grid.fit(X_train, y_train)\n",
    "\n",
    "print('Best accuracy of Random Forest gridsearch: {:.4f}'.format(rf_grid.best_score_))\n",
    "print('Best parameters of Random Forest gridsearch: {:}'.format(rf_grid.best_params_))\n",
    "print('Random forest test score: {:.4f}'.format(rf_grid.score(X_test,y_test)))"
   ]
  },
  {
   "cell_type": "markdown",
   "metadata": {},
   "source": [
    "So it seems that I did not manage to get any real improvement on the test score by allowing for high number of max leaf nodes. I will finally graph the cross-validation accuracy for the hyperparameters."
   ]
  },
  {
   "cell_type": "code",
   "execution_count": 14,
   "metadata": {},
   "outputs": [
    {
     "data": {
      "image/png": "[encoded data removed]",
      "text/plain": [
       "<Figure size 432x288 with 1 Axes>"
      ]
     },
     "metadata": {
      "needs_background": "light"
     },
     "output_type": "display_data"
    }
   ],
   "source": [
    "from pandas.io.json import json_normalize\n",
    "rf_grid_scores=pd.DataFrame(rf_grid.cv_results_)[['mean_test_score', 'std_test_score', 'params']]\n",
    "#It turns parameters into separate columns\n",
    "rf_params = json_normalize(rf_grid_scores['params'])\n",
    "#Merge them together\n",
    "rf_params = pd.concat([rf_params,rf_grid_scores],axis=1)\n",
    "\n",
    "#Create separate df for each value of n_estimators\n",
    "rf_50_est = rf_params[rf_params.n_estimators == 50]\n",
    "rf_100_est = rf_params[rf_params.n_estimators == 100]\n",
    "rf_200_est = rf_params[rf_params.n_estimators == 200]\n",
    "rf_300_est = rf_params[rf_params.n_estimators == 300]\n",
    "\n",
    "plt.title(\"CV accuracy depending on number of leaf nodes and estimators\")\n",
    "plt.xlabel('Number leaf nodes')\n",
    "plt.ylabel('Cross-Validated Accuracy')\n",
    "plt.plot(rf_50_est.max_leaf_nodes, rf_50_est.mean_test_score, label='50 est')\n",
    "plt.plot(rf_100_est.max_leaf_nodes, rf_100_est.mean_test_score, label='100 est')\n",
    "plt.plot(rf_200_est.max_leaf_nodes, rf_200_est.mean_test_score, label='200 est')\n",
    "plt.plot(rf_300_est.max_leaf_nodes, rf_300_est.mean_test_score, label='300 est')\n",
    "plt.legend()\n",
    "plt.show()"
   ]
  },
  {
   "cell_type": "markdown",
   "metadata": {},
   "source": [
    "To conclude, all classifiers have managed to highly outperform the dummy classifier who's accuracy was only 3%. The best performer was the random forest classifier with test accuracy of 98.17%, followed by KNN with 96.98%."
   ]
  }
 ],
 "metadata": {
  "kernelspec": {
   "display_name": "Python 3",
   "language": "python",
   "name": "python3"
  },
  "language_info": {
   "codemirror_mode": {
    "name": "ipython",
    "version": 3
   },
   "file_extension": ".py",
   "mimetype": "text/x-python",
   "name": "python",
   "nbconvert_exporter": "python",
   "pygments_lexer": "ipython3",
   "version": "3.7.3"
  }
 },
 "nbformat": 4,
 "nbformat_minor": 2
}
